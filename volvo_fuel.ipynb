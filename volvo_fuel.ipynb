{
 "cells": [
  {
   "cell_type": "markdown",
   "metadata": {},
   "source": [
    "## Read Volvo CSV file\n",
    "\n",
    "In the Volvo \"On Call\" App in the \"Driving Journal\" section, your last 100 days of\n",
    "trips are recorded.  This includes miles and time travelled, destinations,\n",
    "fuel consumption, etc.\n",
    "\n",
    "The Volvo \"On Call\" App gives you the option to download your data in a text,\n",
    "csv, or Excel file.\n",
    "\n",
    "This program takes that information and calculates summary statistics.\n",
    "\n",
    "I used the csv option.  Here are a few notes:\n",
    "\n",
    "* To make the downloaded csv file readable by pandas (a python library used to crunch\n",
    "  lots of data), import the file into Google Sheets (set the delimiter\n",
    "  to a \";\".  Then export the file as a csv file.  This csv will be readable by pandas.\n",
    "* If you don't have access to Google Sheets, read the file using the\n",
    "  code below, copy/paste the output to another file called Volvo.csv. Pandas can read\n",
    "  the new file.\n",
    "* There are 4 columns that don't contain data, so I dropped them.\n",
    "* The Started and Stopped columns were converted to actual dates and the time Duration\n",
    "  was converted to minutes instead of the colon notation (hours:minutes)."
   ]
  },
  {
   "cell_type": "code",
   "execution_count": 85,
   "metadata": {},
   "outputs": [],
   "source": [
    "import pandas as pd"
   ]
  },
  {
   "cell_type": "code",
   "execution_count": 86,
   "metadata": {
    "scrolled": false
   },
   "outputs": [],
   "source": [
    "# The Volvo csv file needs cleanup.\n",
    "# Run this, print the lines, and copy/paste the output to a file\n",
    "# called Volvo.csv.\n",
    "#\n",
    "with open(\"Volvo-jan-10-2021.csv\", encoding=\"utf8\", errors='ignore') as f:\n",
    "    lines = f.read().splitlines()\n",
    "    for i in lines:\n",
    "        # Remove the \"pass\" line and uncomment the print line\n",
    "        # so you can see lines.  Then copy/paste the output\n",
    "        # to a text file called Volvo.csv.\n",
    "        #\n",
    "        pass\n",
    "        #print(i)"
   ]
  },
  {
   "cell_type": "code",
   "execution_count": 87,
   "metadata": {},
   "outputs": [],
   "source": [
    "# Read the resulting .csv file using pandas.\n",
    "#\n",
    "df = pd.read_csv(\"Volvo.csv\", delimiter=';')"
   ]
  },
  {
   "cell_type": "code",
   "execution_count": 88,
   "metadata": {},
   "outputs": [
    {
     "data": {
      "text/plain": [
       "Index(['Category', 'Started', 'Start odometer (miles)', 'Start address',\n",
       "       'Stopped', 'End odometer (miles)', 'End address', 'Duration',\n",
       "       'Distance (miles)', 'Fuel consumption (gallons)', 'Title', 'User Notes',\n",
       "       'Unnamed: 12'],\n",
       "      dtype='object')"
      ]
     },
     "execution_count": 88,
     "metadata": {},
     "output_type": "execute_result"
    }
   ],
   "source": [
    "# Show list of columns so we know what to drop (in my case,\n",
    "# several columns are empty).\n",
    "#\n",
    "df.columns"
   ]
  },
  {
   "cell_type": "code",
   "execution_count": 89,
   "metadata": {},
   "outputs": [],
   "source": [
    "# Drop unused/empty columns.\n",
    "#\n",
    "for col in ['Category', 'Title', 'User Notes', 'Unnamed: 12']:\n",
    "    df.drop(col, axis=1, inplace=True)"
   ]
  },
  {
   "cell_type": "code",
   "execution_count": 90,
   "metadata": {},
   "outputs": [],
   "source": [
    "# Transform Started/Stop to actual dates\n",
    "#\n",
    "df.Started = pd.to_datetime(df.Started)\n",
    "df.Stopped = pd.to_datetime(df.Stopped)\n",
    "\n",
    "# Transform Duration (in the form of \"xx:xx h\" into integer minutes).\n",
    "#\n",
    "df['Duration'] = df['Duration'].apply(lambda x: int(x[:-2].split(':')[0]) * 60 + int(x[:-2].split(\":\")[1]))"
   ]
  },
  {
   "cell_type": "code",
   "execution_count": 174,
   "metadata": {},
   "outputs": [
    {
     "data": {
      "text/html": [
       "<div>\n",
       "<style scoped>\n",
       "    .dataframe tbody tr th:only-of-type {\n",
       "        vertical-align: middle;\n",
       "    }\n",
       "\n",
       "    .dataframe tbody tr th {\n",
       "        vertical-align: top;\n",
       "    }\n",
       "\n",
       "    .dataframe thead th {\n",
       "        text-align: right;\n",
       "    }\n",
       "</style>\n",
       "<table border=\"1\" class=\"dataframe\">\n",
       "  <thead>\n",
       "    <tr style=\"text-align: right;\">\n",
       "      <th></th>\n",
       "      <th>Started</th>\n",
       "      <th>Start odometer (miles)</th>\n",
       "      <th>Stopped</th>\n",
       "      <th>End odometer (miles)</th>\n",
       "      <th>Duration</th>\n",
       "      <th>Distance (miles)</th>\n",
       "      <th>Fuel consumption (gallons)</th>\n",
       "    </tr>\n",
       "  </thead>\n",
       "  <tbody>\n",
       "    <tr>\n",
       "      <th>0</th>\n",
       "      <td>2021-01-09 16:53:00</td>\n",
       "      <td>4019</td>\n",
       "      <td>2021-01-09 17:08:00</td>\n",
       "      <td>4025</td>\n",
       "      <td>14</td>\n",
       "      <td>6.559</td>\n",
       "      <td>0.258</td>\n",
       "    </tr>\n",
       "    <tr>\n",
       "      <th>1</th>\n",
       "      <td>2021-01-09 16:26:00</td>\n",
       "      <td>4012</td>\n",
       "      <td>2021-01-09 16:39:00</td>\n",
       "      <td>4019</td>\n",
       "      <td>13</td>\n",
       "      <td>6.554</td>\n",
       "      <td>0.264</td>\n",
       "    </tr>\n",
       "    <tr>\n",
       "      <th>2</th>\n",
       "      <td>2021-01-09 11:26:00</td>\n",
       "      <td>4003</td>\n",
       "      <td>2021-01-09 11:45:00</td>\n",
       "      <td>4012</td>\n",
       "      <td>19</td>\n",
       "      <td>9.573</td>\n",
       "      <td>0.414</td>\n",
       "    </tr>\n",
       "    <tr>\n",
       "      <th>3</th>\n",
       "      <td>2021-01-09 10:53:00</td>\n",
       "      <td>3985</td>\n",
       "      <td>2021-01-09 11:23:00</td>\n",
       "      <td>4003</td>\n",
       "      <td>30</td>\n",
       "      <td>17.790</td>\n",
       "      <td>0.657</td>\n",
       "    </tr>\n",
       "    <tr>\n",
       "      <th>4</th>\n",
       "      <td>2021-01-09 10:41:00</td>\n",
       "      <td>3983</td>\n",
       "      <td>2021-01-09 10:47:00</td>\n",
       "      <td>3985</td>\n",
       "      <td>6</td>\n",
       "      <td>1.825</td>\n",
       "      <td>0.097</td>\n",
       "    </tr>\n",
       "  </tbody>\n",
       "</table>\n",
       "</div>"
      ],
      "text/plain": [
       "              Started  Start odometer (miles)             Stopped  \\\n",
       "0 2021-01-09 16:53:00                    4019 2021-01-09 17:08:00   \n",
       "1 2021-01-09 16:26:00                    4012 2021-01-09 16:39:00   \n",
       "2 2021-01-09 11:26:00                    4003 2021-01-09 11:45:00   \n",
       "3 2021-01-09 10:53:00                    3985 2021-01-09 11:23:00   \n",
       "4 2021-01-09 10:41:00                    3983 2021-01-09 10:47:00   \n",
       "\n",
       "   End odometer (miles)  Duration  Distance (miles)  \\\n",
       "0                  4025        14             6.559   \n",
       "1                  4019        13             6.554   \n",
       "2                  4012        19             9.573   \n",
       "3                  4003        30            17.790   \n",
       "4                  3985         6             1.825   \n",
       "\n",
       "   Fuel consumption (gallons)  \n",
       "0                       0.258  \n",
       "1                       0.264  \n",
       "2                       0.414  \n",
       "3                       0.657  \n",
       "4                       0.097  "
      ]
     },
     "execution_count": 174,
     "metadata": {},
     "output_type": "execute_result"
    }
   ],
   "source": [
    "# Show the data (omitting addresses for the data donor's privacy).\n",
    "#\n",
    "df[['Started', 'Start odometer (miles)',\n",
    "       'Stopped', 'End odometer (miles)', 'Duration',\n",
    "       'Distance (miles)', 'Fuel consumption (gallons)']].head()"
   ]
  },
  {
   "cell_type": "code",
   "execution_count": 167,
   "metadata": {},
   "outputs": [],
   "source": [
    "# CSV data is downloaded for the last 100 days.\n",
    "# Perform some basic calculations.\n",
    "#\n",
    "first_odo = df.iloc[-1, 4]\n",
    "last_odo = df.iloc[0, 4]\n",
    "total_miles = last_odo - first_odo\n",
    "\n",
    "total_time = df['Duration'].sum()\n",
    "hours = total_time // 60\n",
    "minutes = total_time % 60\n",
    "total_fuel = df['Fuel consumption (gallons)'].sum()\n",
    "\n",
    "ave_trip = df['Distance (miles)'].mean()\n",
    "ave_duration = df['Duration'].mean()\n",
    "ave_speed = ave_trip / (ave_duration / 60.0)"
   ]
  },
  {
   "cell_type": "code",
   "execution_count": 169,
   "metadata": {},
   "outputs": [
    {
     "name": "stdout",
     "output_type": "stream",
     "text": [
      "In the last 100 days:\n",
      "\n",
      "  Miles driven   : 2,422\n",
      "  Fuel consumed  : 93.02 gallons\n",
      "  Average Trip   : 9.52 miles\n",
      "  Average Time   : 17.78 minutes\n",
      "  Average Speed  : 32.14 mph\n",
      "  Overal mpg     : 26.04\n",
      "  Time driven    : 75 hours 34 minutes\n",
      "\n",
      "  Unique starting points : 75\n",
      "  Unique ending points   : 70\n"
     ]
    }
   ],
   "source": [
    "print(\"In the last 100 days:\\n\")\n",
    "print(f\"  Miles driven   : {total_miles:,d}\")\n",
    "print(f\"  Fuel consumed  : {total_fuel:,.2f} gallons\")\n",
    "print(f\"  Average Trip   : {ave_trip:,.2f} miles\" )\n",
    "print(f\"  Average Time   : {ave_duration:,.2f} minutes\")\n",
    "print(f\"  Average Speed  : {ave_speed:,.2f} mph\")\n",
    "\n",
    "print(f\"  Overal mpg     : {total_miles / total_fuel:,.2f}\")\n",
    "print(f\"  Time driven    : {hours} hours {minutes} minutes\")\n",
    "print()\n",
    "print(f\"  Unique starting points : {len(df['Start address'].unique())}\")\n",
    "print(f\"  Unique ending points   : {len(df['End address'].unique())}\")"
   ]
  },
  {
   "cell_type": "code",
   "execution_count": null,
   "metadata": {},
   "outputs": [],
   "source": []
  }
 ],
 "metadata": {
  "kernelspec": {
   "display_name": "Python 3",
   "language": "python",
   "name": "python3"
  },
  "language_info": {
   "codemirror_mode": {
    "name": "ipython",
    "version": 3
   },
   "file_extension": ".py",
   "mimetype": "text/x-python",
   "name": "python",
   "nbconvert_exporter": "python",
   "pygments_lexer": "ipython3",
   "version": "3.8.5"
  }
 },
 "nbformat": 4,
 "nbformat_minor": 4
}
