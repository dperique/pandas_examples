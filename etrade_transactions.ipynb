{
 "cells": [
  {
   "cell_type": "markdown",
   "metadata": {},
   "source": [
    "# Generate Reports for E*Trade transactions\n",
    "\n",
    "E*Trade allows you to download your transaction data.  Here are some\n",
    "examples of using some data to generate reports related to how much\n",
    "was paid infees (for their \"managed\" account) and yearly dividends."
   ]
  },
  {
   "cell_type": "code",
   "execution_count": null,
   "metadata": {
    "scrolled": true
   },
   "outputs": [],
   "source": [
    "import pandas as pd\n",
    "import glob\n",
    "import os\n",
    "import sys\n",
    "!{sys.executable} -m pip install yfinance"
   ]
  },
  {
   "cell_type": "markdown",
   "metadata": {},
   "source": [
    "## Read in the Data\n",
    "\n",
    "Before running, you'll have to download your E*Trade date and place it in a\n",
    "subdirectory.\n",
    "\n",
    "Edit each csv file and remove the first two lines so that the\n",
    "header is the first line."
   ]
  },
  {
   "cell_type": "code",
   "execution_count": null,
   "metadata": {},
   "outputs": [],
   "source": [
    "dr = pd.concat(map(pd.read_csv, glob.glob(os.path.join('', \"etrade/*.csv\"))))"
   ]
  },
  {
   "cell_type": "code",
   "execution_count": null,
   "metadata": {},
   "outputs": [],
   "source": [
    "dr.TransactionDate = pd.to_datetime(dr.TransactionDate)"
   ]
  },
  {
   "cell_type": "code",
   "execution_count": null,
   "metadata": {},
   "outputs": [],
   "source": [
    "for year in range(2017, 2021, 1):\n",
    "    \n",
    "    # Filter on the year separately to enhance readability.\n",
    "    #\n",
    "    year_index = ( (dr.TransactionDate >= f'{year}/01/01') &\n",
    "                   (dr.TransactionDate <= f'{year}/12/31') )\n",
    "    \n",
    "    fee_frame = dr[ year_index & (dr.TransactionType == 'Fee')][['TransactionDate', 'Amount']]\n",
    "    print(fee_frame.sort_values('TransactionDate'))\n",
    "    fee_total = fee_frame.Amount.sum()\n",
    "    print(f\"{'*' * 40} Total fees for {year}: ${fee_total:,.2f}\\n\")\n",
    "    \n",
    "    div_frame = dr[ year_index & (dr.TransactionType == 'Dividend')][['TransactionDate', 'SecurityType', 'Symbol', 'Amount']]\n",
    "    print(div_frame.sort_values('TransactionDate'))\n",
    "    div_total = div_frame.Amount.sum()\n",
    "    print(f\"{'*' * 40} Total dividends for {year}: ${div_total:,.2f}\\n\")\n",
    "    "
   ]
  },
  {
   "cell_type": "code",
   "execution_count": null,
   "metadata": {},
   "outputs": [],
   "source": [
    "dr [ (dr.TransactionType != 'Dividend') &\n",
    "     (dr.TransactionType != 'Bought') &\n",
    "     (dr.TransactionType != 'Sold') &\n",
    "     (dr.TransactionType != 'Fee') ]"
   ]
  },
  {
   "cell_type": "code",
   "execution_count": null,
   "metadata": {},
   "outputs": [],
   "source": [
    "dr [dr.TransactionType == 'Other']['Description']"
   ]
  },
  {
   "cell_type": "markdown",
   "metadata": {},
   "source": [
    "## Get the Security Symbols"
   ]
  },
  {
   "cell_type": "code",
   "execution_count": null,
   "metadata": {},
   "outputs": [],
   "source": [
    "# Get the list of security symbols, put them into a list and then\n",
    "# get the unique ones.\n",
    "#\n",
    "symbol_set = set(\n",
    "     dr [ (dr.TransactionType == 'Dividend') |\n",
    "          (dr.TransactionType == 'Bought') |\n",
    "          (dr.TransactionType == 'Sold')]['Symbol'].tolist())\n",
    "\n",
    "symbol_set"
   ]
  },
  {
   "cell_type": "code",
   "execution_count": null,
   "metadata": {},
   "outputs": [],
   "source": [
    "# For each symbol, build a dict of the actual security name.\n",
    "#\n",
    "import yfinance as yf\n",
    "\n",
    "symbol_dict = {}\n",
    "def print_sec(aSymbol):\n",
    "    try:\n",
    "        val = yf.Ticker(aSymbol).info['longName']\n",
    "    except KeyError as e:\n",
    "        print(f\"Error on {aSymbol}\", e)\n",
    "        val = \"Unknown\"\n",
    "    print(f\"{aSymbol:8s} {val}\")\n",
    "    symbol_dict[aSymbol] = val\n",
    "    \n",
    "for s in sorted(symbol_set):\n",
    "    print(s)\n",
    "    print_sec(s)"
   ]
  },
  {
   "cell_type": "code",
   "execution_count": null,
   "metadata": {},
   "outputs": [],
   "source": [
    "for k,v in symbol_dict.items():\n",
    "    print(k,v)"
   ]
  },
  {
   "cell_type": "code",
   "execution_count": null,
   "metadata": {},
   "outputs": [],
   "source": []
  }
 ],
 "metadata": {
  "kernelspec": {
   "display_name": "Python 3",
   "language": "python",
   "name": "python3"
  },
  "language_info": {
   "codemirror_mode": {
    "name": "ipython",
    "version": 3
   },
   "file_extension": ".py",
   "mimetype": "text/x-python",
   "name": "python",
   "nbconvert_exporter": "python",
   "pygments_lexer": "ipython3",
   "version": "3.8.5"
  }
 },
 "nbformat": 4,
 "nbformat_minor": 4
}
